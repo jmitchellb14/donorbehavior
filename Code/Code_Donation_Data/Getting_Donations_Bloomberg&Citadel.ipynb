{
 "cells": [
  {
   "cell_type": "code",
   "execution_count": 25,
   "metadata": {},
   "outputs": [],
   "source": []
  },
  {
   "cell_type": "code",
   "execution_count": 106,
   "metadata": {},
   "outputs": [],
   "source": [
    "import pandas as pd\n",
    "import numpy as np\n",
    "\n",
    "\n",
    "import sys"
   ]
  },
  {
   "cell_type": "code",
   "execution_count": 107,
   "metadata": {},
   "outputs": [],
   "source": [
    "def keep_columns(df):\n",
    "    df = df[['Recipient', 'Total', 'View']]\n",
    "    return df\n",
    "\n",
    "def strip_money(df):\n",
    "    stripped_money = df['Total'].str.replace('$', '')\n",
    "    df['Total'] = stripped_money.astype('float')\n",
    "    return df\n",
    "\n",
    "def clean_names(df):\n",
    "    # new data frame with split value columns\n",
    "    data_names = df[\"Recipient\"].str.split(\" \", n = 0, expand = True).copy()\n",
    "    frames = [df, data_names]\n",
    "    df = pd.concat(frames, axis = 1)\n",
    "    df['First Name'] = df[1]\n",
    "    df['Last Name'] = df[0]\n",
    "    df['donations2012'] = df['Total']\n",
    "    df['Party'] = df['View']  \n",
    "    df = df.drop(columns =['Total'])\n",
    "    df = df.drop(columns =['View'])\n",
    "    df = df.drop(columns =[0])\n",
    "    df = df.drop(columns =[1])\n",
    "    df = df.drop(columns =[2])\n",
    "    df = df.drop(columns =[\"Recipient\"])\n",
    "    df.iloc[:, ::-1]\n",
    "    return df"
   ]
  },
  {
   "cell_type": "code",
   "execution_count": 108,
   "metadata": {},
   "outputs": [],
   "source": [
    "a = \"~/Documents/GitHub/CampaignDonations/External_Input_Data/Donation_Data/bloomberg_donations_2012.csv\"\n",
    "aa = \"~/Documents/GitHub/CampaignDonations/External_Input_Data/Donation_Data/citadel_donations_2012.csv\"\n",
    "\n",
    "donations_2012 = pd.read_csv(aa)"
   ]
  },
  {
   "cell_type": "code",
   "execution_count": 109,
   "metadata": {},
   "outputs": [],
   "source": [
    "donations_2012 = keep_columns(donations_2012)"
   ]
  },
  {
   "cell_type": "code",
   "execution_count": 110,
   "metadata": {},
   "outputs": [],
   "source": [
    "donations_2012 = strip_money(donations_2012)"
   ]
  },
  {
   "cell_type": "code",
   "execution_count": 111,
   "metadata": {},
   "outputs": [],
   "source": [
    "donations_2012 = clean_names(donations_2012)"
   ]
  },
  {
   "cell_type": "code",
   "execution_count": 112,
   "metadata": {},
   "outputs": [
    {
     "data": {
      "text/html": [
       "<div>\n",
       "<style scoped>\n",
       "    .dataframe tbody tr th:only-of-type {\n",
       "        vertical-align: middle;\n",
       "    }\n",
       "\n",
       "    .dataframe tbody tr th {\n",
       "        vertical-align: top;\n",
       "    }\n",
       "\n",
       "    .dataframe thead th {\n",
       "        text-align: right;\n",
       "    }\n",
       "</style>\n",
       "<table border=\"1\" class=\"dataframe\">\n",
       "  <thead>\n",
       "    <tr style=\"text-align: right;\">\n",
       "      <th></th>\n",
       "      <th>First Name</th>\n",
       "      <th>Last Name</th>\n",
       "      <th>donations2012</th>\n",
       "      <th>Party</th>\n",
       "    </tr>\n",
       "  </thead>\n",
       "  <tbody>\n",
       "    <tr>\n",
       "      <th>0</th>\n",
       "      <td>Jim</td>\n",
       "      <td>Himes</td>\n",
       "      <td>15000.0</td>\n",
       "      <td>Democrat</td>\n",
       "    </tr>\n",
       "    <tr>\n",
       "      <th>1</th>\n",
       "      <td>Bob</td>\n",
       "      <td>Dold</td>\n",
       "      <td>15000.0</td>\n",
       "      <td>Republican</td>\n",
       "    </tr>\n",
       "    <tr>\n",
       "      <th>2</th>\n",
       "      <td>Christopher</td>\n",
       "      <td>Murphy</td>\n",
       "      <td>13500.0</td>\n",
       "      <td>Democrat</td>\n",
       "    </tr>\n",
       "    <tr>\n",
       "      <th>3</th>\n",
       "      <td>Tom</td>\n",
       "      <td>Cotton</td>\n",
       "      <td>5000.0</td>\n",
       "      <td>Republican</td>\n",
       "    </tr>\n",
       "    <tr>\n",
       "      <th>4</th>\n",
       "      <td>Judy</td>\n",
       "      <td>Biggert</td>\n",
       "      <td>5000.0</td>\n",
       "      <td>Republican</td>\n",
       "    </tr>\n",
       "  </tbody>\n",
       "</table>\n",
       "</div>"
      ],
      "text/plain": [
       "    First Name Last Name  donations2012       Party\n",
       "0          Jim     Himes        15000.0    Democrat\n",
       "1          Bob      Dold        15000.0  Republican\n",
       "2  Christopher    Murphy        13500.0    Democrat\n",
       "3          Tom    Cotton         5000.0  Republican\n",
       "4         Judy   Biggert         5000.0  Republican"
      ]
     },
     "execution_count": 112,
     "metadata": {},
     "output_type": "execute_result"
    }
   ],
   "source": [
    "donations_2012.head()"
   ]
  },
  {
   "cell_type": "code",
   "execution_count": 113,
   "metadata": {},
   "outputs": [],
   "source": [
    "b = \"~/Documents/GitHub/CampaignDonations/External_Input_Data/Donation_Data/bloomberg_donations_2014.csv\"\n",
    "bb = \"~/Documents/GitHub/CampaignDonations/External_Input_Data/Donation_Data/citadel_donations_2014.csv\"\n",
    "\n",
    "donations_2014 = pd.read_csv(bb)"
   ]
  },
  {
   "cell_type": "code",
   "execution_count": 114,
   "metadata": {},
   "outputs": [],
   "source": [
    "donations_2014 = keep_columns(donations_2014)"
   ]
  },
  {
   "cell_type": "code",
   "execution_count": 115,
   "metadata": {},
   "outputs": [],
   "source": [
    "donations_2014 = strip_money(donations_2014)"
   ]
  },
  {
   "cell_type": "code",
   "execution_count": 116,
   "metadata": {},
   "outputs": [],
   "source": [
    "donations_2014 = clean_names(donations_2014)"
   ]
  },
  {
   "cell_type": "code",
   "execution_count": 117,
   "metadata": {},
   "outputs": [],
   "source": [
    "donations_2014['donations2014'] = donations_2014['donations2012']\n",
    "donations_2014 = donations_2014.drop(columns =[\"donations2012\"])"
   ]
  },
  {
   "cell_type": "code",
   "execution_count": 118,
   "metadata": {},
   "outputs": [
    {
     "data": {
      "text/html": [
       "<div>\n",
       "<style scoped>\n",
       "    .dataframe tbody tr th:only-of-type {\n",
       "        vertical-align: middle;\n",
       "    }\n",
       "\n",
       "    .dataframe tbody tr th {\n",
       "        vertical-align: top;\n",
       "    }\n",
       "\n",
       "    .dataframe thead th {\n",
       "        text-align: right;\n",
       "    }\n",
       "</style>\n",
       "<table border=\"1\" class=\"dataframe\">\n",
       "  <thead>\n",
       "    <tr style=\"text-align: right;\">\n",
       "      <th></th>\n",
       "      <th>First Name</th>\n",
       "      <th>Last Name</th>\n",
       "      <th>Party</th>\n",
       "      <th>donations2014</th>\n",
       "    </tr>\n",
       "  </thead>\n",
       "  <tbody>\n",
       "    <tr>\n",
       "      <th>0</th>\n",
       "      <td>Tom</td>\n",
       "      <td>Cotton</td>\n",
       "      <td>Republican</td>\n",
       "      <td>35050.0</td>\n",
       "    </tr>\n",
       "    <tr>\n",
       "      <th>1</th>\n",
       "      <td>Bob</td>\n",
       "      <td>Dold</td>\n",
       "      <td>Republican</td>\n",
       "      <td>11800.0</td>\n",
       "    </tr>\n",
       "    <tr>\n",
       "      <th>2</th>\n",
       "      <td>Jim</td>\n",
       "      <td>Himes</td>\n",
       "      <td>Democrat</td>\n",
       "      <td>10400.0</td>\n",
       "    </tr>\n",
       "    <tr>\n",
       "      <th>3</th>\n",
       "      <td>Steven</td>\n",
       "      <td>Daines</td>\n",
       "      <td>Republican</td>\n",
       "      <td>10100.0</td>\n",
       "    </tr>\n",
       "    <tr>\n",
       "      <th>4</th>\n",
       "      <td>Bill</td>\n",
       "      <td>Cassidy</td>\n",
       "      <td>Republican</td>\n",
       "      <td>7800.0</td>\n",
       "    </tr>\n",
       "  </tbody>\n",
       "</table>\n",
       "</div>"
      ],
      "text/plain": [
       "  First Name Last Name       Party  donations2014\n",
       "0        Tom    Cotton  Republican        35050.0\n",
       "1        Bob      Dold  Republican        11800.0\n",
       "2        Jim     Himes    Democrat        10400.0\n",
       "3     Steven    Daines  Republican        10100.0\n",
       "4       Bill   Cassidy  Republican         7800.0"
      ]
     },
     "execution_count": 118,
     "metadata": {},
     "output_type": "execute_result"
    }
   ],
   "source": [
    "donations_2014.head()"
   ]
  },
  {
   "cell_type": "code",
   "execution_count": 119,
   "metadata": {},
   "outputs": [],
   "source": [
    "c = \"~/Documents/GitHub/CampaignDonations/External_Input_Data/Donation_Data/bloomberg_donations_2016.csv\"\n",
    "cc = \"~/Documents/GitHub/CampaignDonations/External_Input_Data/Donation_Data/citadel_donations_2016.csv\"\n",
    "\n",
    "donations_2016 = pd.read_csv(cc)"
   ]
  },
  {
   "cell_type": "code",
   "execution_count": 120,
   "metadata": {},
   "outputs": [],
   "source": [
    "donations_2016 = keep_columns(donations_2016)"
   ]
  },
  {
   "cell_type": "code",
   "execution_count": 121,
   "metadata": {},
   "outputs": [],
   "source": [
    "donations_2016 = strip_money(donations_2016)"
   ]
  },
  {
   "cell_type": "code",
   "execution_count": 122,
   "metadata": {},
   "outputs": [],
   "source": [
    "donations_2016 = clean_names(donations_2016)"
   ]
  },
  {
   "cell_type": "code",
   "execution_count": 123,
   "metadata": {},
   "outputs": [],
   "source": [
    "donations_2016['donations2016'] = donations_2016['donations2012']\n",
    "donations_2016 = donations_2016.drop(columns =[\"donations2012\"])"
   ]
  },
  {
   "cell_type": "code",
   "execution_count": 124,
   "metadata": {},
   "outputs": [
    {
     "data": {
      "text/html": [
       "<div>\n",
       "<style scoped>\n",
       "    .dataframe tbody tr th:only-of-type {\n",
       "        vertical-align: middle;\n",
       "    }\n",
       "\n",
       "    .dataframe tbody tr th {\n",
       "        vertical-align: top;\n",
       "    }\n",
       "\n",
       "    .dataframe thead th {\n",
       "        text-align: right;\n",
       "    }\n",
       "</style>\n",
       "<table border=\"1\" class=\"dataframe\">\n",
       "  <thead>\n",
       "    <tr style=\"text-align: right;\">\n",
       "      <th></th>\n",
       "      <th>First Name</th>\n",
       "      <th>Last Name</th>\n",
       "      <th>Party</th>\n",
       "      <th>donations2016</th>\n",
       "    </tr>\n",
       "  </thead>\n",
       "  <tbody>\n",
       "    <tr>\n",
       "      <th>0</th>\n",
       "      <td>Paul</td>\n",
       "      <td>Ryan</td>\n",
       "      <td>Republican</td>\n",
       "      <td>27200.0</td>\n",
       "    </tr>\n",
       "    <tr>\n",
       "      <th>1</th>\n",
       "      <td>Peter</td>\n",
       "      <td>Roskam</td>\n",
       "      <td>Republican</td>\n",
       "      <td>17000.0</td>\n",
       "    </tr>\n",
       "    <tr>\n",
       "      <th>2</th>\n",
       "      <td>Bob</td>\n",
       "      <td>Dold</td>\n",
       "      <td>Republican</td>\n",
       "      <td>13750.0</td>\n",
       "    </tr>\n",
       "    <tr>\n",
       "      <th>3</th>\n",
       "      <td>Randy</td>\n",
       "      <td>Hultgren</td>\n",
       "      <td>Republican</td>\n",
       "      <td>10800.0</td>\n",
       "    </tr>\n",
       "    <tr>\n",
       "      <th>4</th>\n",
       "      <td>Patrick</td>\n",
       "      <td>McHenry</td>\n",
       "      <td>Republican</td>\n",
       "      <td>8100.0</td>\n",
       "    </tr>\n",
       "  </tbody>\n",
       "</table>\n",
       "</div>"
      ],
      "text/plain": [
       "  First Name Last Name       Party  donations2016\n",
       "0       Paul      Ryan  Republican        27200.0\n",
       "1      Peter    Roskam  Republican        17000.0\n",
       "2        Bob      Dold  Republican        13750.0\n",
       "3      Randy  Hultgren  Republican        10800.0\n",
       "4    Patrick   McHenry  Republican         8100.0"
      ]
     },
     "execution_count": 124,
     "metadata": {},
     "output_type": "execute_result"
    }
   ],
   "source": [
    "donations_2016.head()"
   ]
  },
  {
   "cell_type": "code",
   "execution_count": 125,
   "metadata": {},
   "outputs": [],
   "source": [
    "d = \"~/Documents/GitHub/CampaignDonations/External_Input_Data/Donation_Data/bloomberg_donations_2018.csv\"\n",
    "dd = \"~/Documents/GitHub/CampaignDonations/External_Input_Data/Donation_Data/citadel_donations_2018.csv\"\n",
    "\n",
    "donations_2018 = pd.read_csv(dd)"
   ]
  },
  {
   "cell_type": "code",
   "execution_count": 126,
   "metadata": {},
   "outputs": [],
   "source": [
    "donations_2018 = keep_columns(donations_2018)"
   ]
  },
  {
   "cell_type": "code",
   "execution_count": 127,
   "metadata": {},
   "outputs": [],
   "source": [
    "donations_2018 = strip_money(donations_2018)"
   ]
  },
  {
   "cell_type": "code",
   "execution_count": 128,
   "metadata": {},
   "outputs": [],
   "source": [
    "donations_2018 = clean_names(donations_2018)"
   ]
  },
  {
   "cell_type": "code",
   "execution_count": 129,
   "metadata": {},
   "outputs": [],
   "source": [
    "donations_2018['donations2018'] = donations_2018['donations2012']\n",
    "donations_2018 = donations_2018.drop(columns =[\"donations2012\"])"
   ]
  },
  {
   "cell_type": "code",
   "execution_count": 130,
   "metadata": {},
   "outputs": [
    {
     "data": {
      "text/html": [
       "<div>\n",
       "<style scoped>\n",
       "    .dataframe tbody tr th:only-of-type {\n",
       "        vertical-align: middle;\n",
       "    }\n",
       "\n",
       "    .dataframe tbody tr th {\n",
       "        vertical-align: top;\n",
       "    }\n",
       "\n",
       "    .dataframe thead th {\n",
       "        text-align: right;\n",
       "    }\n",
       "</style>\n",
       "<table border=\"1\" class=\"dataframe\">\n",
       "  <thead>\n",
       "    <tr style=\"text-align: right;\">\n",
       "      <th></th>\n",
       "      <th>First Name</th>\n",
       "      <th>Last Name</th>\n",
       "      <th>Party</th>\n",
       "      <th>donations2018</th>\n",
       "    </tr>\n",
       "  </thead>\n",
       "  <tbody>\n",
       "    <tr>\n",
       "      <th>0</th>\n",
       "      <td>Peter</td>\n",
       "      <td>Roskam</td>\n",
       "      <td>Republican</td>\n",
       "      <td>25300.0</td>\n",
       "    </tr>\n",
       "    <tr>\n",
       "      <th>1</th>\n",
       "      <td>Antonio</td>\n",
       "      <td>Delgado</td>\n",
       "      <td>Democrat</td>\n",
       "      <td>8100.0</td>\n",
       "    </tr>\n",
       "    <tr>\n",
       "      <th>2</th>\n",
       "      <td>Mike</td>\n",
       "      <td>Bost</td>\n",
       "      <td>Republican</td>\n",
       "      <td>8100.0</td>\n",
       "    </tr>\n",
       "    <tr>\n",
       "      <th>3</th>\n",
       "      <td>Ashley</td>\n",
       "      <td>Lunkenheimer</td>\n",
       "      <td>Democrat</td>\n",
       "      <td>5900.0</td>\n",
       "    </tr>\n",
       "    <tr>\n",
       "      <th>4</th>\n",
       "      <td>Elissa</td>\n",
       "      <td>Slotkin</td>\n",
       "      <td>Democrat</td>\n",
       "      <td>5474.0</td>\n",
       "    </tr>\n",
       "  </tbody>\n",
       "</table>\n",
       "</div>"
      ],
      "text/plain": [
       "  First Name     Last Name       Party  donations2018\n",
       "0      Peter        Roskam  Republican        25300.0\n",
       "1    Antonio       Delgado    Democrat         8100.0\n",
       "2       Mike          Bost  Republican         8100.0\n",
       "3     Ashley  Lunkenheimer    Democrat         5900.0\n",
       "4     Elissa       Slotkin    Democrat         5474.0"
      ]
     },
     "execution_count": 130,
     "metadata": {},
     "output_type": "execute_result"
    }
   ],
   "source": [
    "donations_2018.head()"
   ]
  },
  {
   "cell_type": "code",
   "execution_count": 131,
   "metadata": {},
   "outputs": [
    {
     "data": {
      "text/plain": [
       "(27, 4)"
      ]
     },
     "execution_count": 131,
     "metadata": {},
     "output_type": "execute_result"
    }
   ],
   "source": [
    "donations_2012.shape"
   ]
  },
  {
   "cell_type": "code",
   "execution_count": 132,
   "metadata": {},
   "outputs": [
    {
     "data": {
      "text/plain": [
       "(31, 4)"
      ]
     },
     "execution_count": 132,
     "metadata": {},
     "output_type": "execute_result"
    }
   ],
   "source": [
    "donations_2014.shape"
   ]
  },
  {
   "cell_type": "code",
   "execution_count": 133,
   "metadata": {},
   "outputs": [
    {
     "data": {
      "text/plain": [
       "(85, 4)"
      ]
     },
     "execution_count": 133,
     "metadata": {},
     "output_type": "execute_result"
    }
   ],
   "source": [
    "donations_2016.shape"
   ]
  },
  {
   "cell_type": "code",
   "execution_count": 134,
   "metadata": {},
   "outputs": [
    {
     "data": {
      "text/plain": [
       "(133, 4)"
      ]
     },
     "execution_count": 134,
     "metadata": {},
     "output_type": "execute_result"
    }
   ],
   "source": [
    "donations_2018.shape"
   ]
  },
  {
   "cell_type": "code",
   "execution_count": 135,
   "metadata": {},
   "outputs": [
    {
     "data": {
      "text/html": [
       "<div>\n",
       "<style scoped>\n",
       "    .dataframe tbody tr th:only-of-type {\n",
       "        vertical-align: middle;\n",
       "    }\n",
       "\n",
       "    .dataframe tbody tr th {\n",
       "        vertical-align: top;\n",
       "    }\n",
       "\n",
       "    .dataframe thead th {\n",
       "        text-align: right;\n",
       "    }\n",
       "</style>\n",
       "<table border=\"1\" class=\"dataframe\">\n",
       "  <thead>\n",
       "    <tr style=\"text-align: right;\">\n",
       "      <th></th>\n",
       "      <th>First Name</th>\n",
       "      <th>Last Name</th>\n",
       "      <th>donations2012</th>\n",
       "      <th>Party</th>\n",
       "      <th>donations2014</th>\n",
       "      <th>donations2016</th>\n",
       "      <th>donations2018</th>\n",
       "    </tr>\n",
       "  </thead>\n",
       "  <tbody>\n",
       "    <tr>\n",
       "      <th>0</th>\n",
       "      <td>Jim</td>\n",
       "      <td>Himes</td>\n",
       "      <td>15000.0</td>\n",
       "      <td>Democrat</td>\n",
       "      <td>10400.0</td>\n",
       "      <td>5400.0</td>\n",
       "      <td>5400.0</td>\n",
       "    </tr>\n",
       "    <tr>\n",
       "      <th>1</th>\n",
       "      <td>Bob</td>\n",
       "      <td>Dold</td>\n",
       "      <td>15000.0</td>\n",
       "      <td>Republican</td>\n",
       "      <td>11800.0</td>\n",
       "      <td>13750.0</td>\n",
       "      <td>NaN</td>\n",
       "    </tr>\n",
       "    <tr>\n",
       "      <th>2</th>\n",
       "      <td>Christopher</td>\n",
       "      <td>Murphy</td>\n",
       "      <td>13500.0</td>\n",
       "      <td>Democrat</td>\n",
       "      <td>NaN</td>\n",
       "      <td>NaN</td>\n",
       "      <td>NaN</td>\n",
       "    </tr>\n",
       "    <tr>\n",
       "      <th>3</th>\n",
       "      <td>Tom</td>\n",
       "      <td>Cotton</td>\n",
       "      <td>5000.0</td>\n",
       "      <td>Republican</td>\n",
       "      <td>35050.0</td>\n",
       "      <td>NaN</td>\n",
       "      <td>NaN</td>\n",
       "    </tr>\n",
       "    <tr>\n",
       "      <th>4</th>\n",
       "      <td>Judy</td>\n",
       "      <td>Biggert</td>\n",
       "      <td>5000.0</td>\n",
       "      <td>Republican</td>\n",
       "      <td>NaN</td>\n",
       "      <td>NaN</td>\n",
       "      <td>NaN</td>\n",
       "    </tr>\n",
       "  </tbody>\n",
       "</table>\n",
       "</div>"
      ],
      "text/plain": [
       "    First Name Last Name  donations2012       Party  donations2014  \\\n",
       "0          Jim     Himes        15000.0    Democrat        10400.0   \n",
       "1          Bob      Dold        15000.0  Republican        11800.0   \n",
       "2  Christopher    Murphy        13500.0    Democrat            NaN   \n",
       "3          Tom    Cotton         5000.0  Republican        35050.0   \n",
       "4         Judy   Biggert         5000.0  Republican            NaN   \n",
       "\n",
       "   donations2016  donations2018  \n",
       "0         5400.0         5400.0  \n",
       "1        13750.0            NaN  \n",
       "2            NaN            NaN  \n",
       "3            NaN            NaN  \n",
       "4            NaN            NaN  "
      ]
     },
     "execution_count": 135,
     "metadata": {},
     "output_type": "execute_result"
    }
   ],
   "source": [
    "test_merge = pd.merge(donations_2012,donations_2014, how=\"outer\")\n",
    "test_merge = pd.merge(test_merge,donations_2016, how=\"outer\")\n",
    "test_merge = pd.merge(test_merge,donations_2018, how=\"outer\")\n",
    "test_merge.head()"
   ]
  },
  {
   "cell_type": "code",
   "execution_count": 136,
   "metadata": {},
   "outputs": [
    {
     "data": {
      "text/html": [
       "<div>\n",
       "<style scoped>\n",
       "    .dataframe tbody tr th:only-of-type {\n",
       "        vertical-align: middle;\n",
       "    }\n",
       "\n",
       "    .dataframe tbody tr th {\n",
       "        vertical-align: top;\n",
       "    }\n",
       "\n",
       "    .dataframe thead th {\n",
       "        text-align: right;\n",
       "    }\n",
       "</style>\n",
       "<table border=\"1\" class=\"dataframe\">\n",
       "  <thead>\n",
       "    <tr style=\"text-align: right;\">\n",
       "      <th></th>\n",
       "      <th>First Name</th>\n",
       "      <th>Last Name</th>\n",
       "      <th>Party</th>\n",
       "      <th>donations2012</th>\n",
       "      <th>donations2014</th>\n",
       "      <th>donations2016</th>\n",
       "      <th>donations2018</th>\n",
       "    </tr>\n",
       "  </thead>\n",
       "  <tbody>\n",
       "    <tr>\n",
       "      <th>0</th>\n",
       "      <td>Jim</td>\n",
       "      <td>Himes</td>\n",
       "      <td>Democrat</td>\n",
       "      <td>15000.0</td>\n",
       "      <td>10400.0</td>\n",
       "      <td>5400.0</td>\n",
       "      <td>5400.0</td>\n",
       "    </tr>\n",
       "    <tr>\n",
       "      <th>1</th>\n",
       "      <td>Bob</td>\n",
       "      <td>Dold</td>\n",
       "      <td>Republican</td>\n",
       "      <td>15000.0</td>\n",
       "      <td>11800.0</td>\n",
       "      <td>13750.0</td>\n",
       "      <td>NaN</td>\n",
       "    </tr>\n",
       "    <tr>\n",
       "      <th>2</th>\n",
       "      <td>Christopher</td>\n",
       "      <td>Murphy</td>\n",
       "      <td>Democrat</td>\n",
       "      <td>13500.0</td>\n",
       "      <td>NaN</td>\n",
       "      <td>NaN</td>\n",
       "      <td>NaN</td>\n",
       "    </tr>\n",
       "    <tr>\n",
       "      <th>3</th>\n",
       "      <td>Tom</td>\n",
       "      <td>Cotton</td>\n",
       "      <td>Republican</td>\n",
       "      <td>5000.0</td>\n",
       "      <td>35050.0</td>\n",
       "      <td>NaN</td>\n",
       "      <td>NaN</td>\n",
       "    </tr>\n",
       "    <tr>\n",
       "      <th>4</th>\n",
       "      <td>Judy</td>\n",
       "      <td>Biggert</td>\n",
       "      <td>Republican</td>\n",
       "      <td>5000.0</td>\n",
       "      <td>NaN</td>\n",
       "      <td>NaN</td>\n",
       "      <td>NaN</td>\n",
       "    </tr>\n",
       "  </tbody>\n",
       "</table>\n",
       "</div>"
      ],
      "text/plain": [
       "    First Name Last Name       Party  donations2012  donations2014  \\\n",
       "0          Jim     Himes    Democrat        15000.0        10400.0   \n",
       "1          Bob      Dold  Republican        15000.0        11800.0   \n",
       "2  Christopher    Murphy    Democrat        13500.0            NaN   \n",
       "3          Tom    Cotton  Republican         5000.0        35050.0   \n",
       "4         Judy   Biggert  Republican         5000.0            NaN   \n",
       "\n",
       "   donations2016  donations2018  \n",
       "0         5400.0         5400.0  \n",
       "1        13750.0            NaN  \n",
       "2            NaN            NaN  \n",
       "3            NaN            NaN  \n",
       "4            NaN            NaN  "
      ]
     },
     "execution_count": 136,
     "metadata": {},
     "output_type": "execute_result"
    }
   ],
   "source": [
    "cols = [\"First Name\", 'Last Name','Party', 'donations2012', 'donations2014', 'donations2016','donations2018']\n",
    "new_frame = test_merge[cols]\n",
    "new_frame.head()"
   ]
  },
  {
   "cell_type": "code",
   "execution_count": 137,
   "metadata": {},
   "outputs": [
    {
     "name": "stdout",
     "output_type": "stream",
     "text": [
      "<class 'pandas.core.frame.DataFrame'>\n",
      "Int64Index: 222 entries, 0 to 221\n",
      "Data columns (total 7 columns):\n",
      " #   Column         Non-Null Count  Dtype  \n",
      "---  ------         --------------  -----  \n",
      " 0   First Name     222 non-null    object \n",
      " 1   Last Name      222 non-null    object \n",
      " 2   Party          222 non-null    object \n",
      " 3   donations2012  27 non-null     float64\n",
      " 4   donations2014  31 non-null     float64\n",
      " 5   donations2016  85 non-null     float64\n",
      " 6   donations2018  133 non-null    float64\n",
      "dtypes: float64(4), object(3)\n",
      "memory usage: 13.9+ KB\n"
     ]
    }
   ],
   "source": [
    "new_frame.info()"
   ]
  },
  {
   "cell_type": "code",
   "execution_count": 138,
   "metadata": {},
   "outputs": [],
   "source": [
    "new_frame = new_frame.fillna(0)"
   ]
  },
  {
   "cell_type": "code",
   "execution_count": null,
   "metadata": {},
   "outputs": [],
   "source": []
  },
  {
   "cell_type": "code",
   "execution_count": null,
   "metadata": {},
   "outputs": [],
   "source": []
  },
  {
   "cell_type": "code",
   "execution_count": null,
   "metadata": {},
   "outputs": [],
   "source": []
  },
  {
   "cell_type": "code",
   "execution_count": 139,
   "metadata": {},
   "outputs": [],
   "source": [
    "def party_to_party(df):\n",
    "    df['Party'].replace('Republican', 'R',inplace=True)\n",
    "    df['Party'].replace('Democrat', 'D',inplace=True)\n",
    "    df = df.rename(columns = {'Party': \"party\"})\n",
    "    return df\n",
    "    "
   ]
  },
  {
   "cell_type": "code",
   "execution_count": 140,
   "metadata": {},
   "outputs": [
    {
     "data": {
      "text/html": [
       "<div>\n",
       "<style scoped>\n",
       "    .dataframe tbody tr th:only-of-type {\n",
       "        vertical-align: middle;\n",
       "    }\n",
       "\n",
       "    .dataframe tbody tr th {\n",
       "        vertical-align: top;\n",
       "    }\n",
       "\n",
       "    .dataframe thead th {\n",
       "        text-align: right;\n",
       "    }\n",
       "</style>\n",
       "<table border=\"1\" class=\"dataframe\">\n",
       "  <thead>\n",
       "    <tr style=\"text-align: right;\">\n",
       "      <th></th>\n",
       "      <th>First Name</th>\n",
       "      <th>Last Name</th>\n",
       "      <th>party</th>\n",
       "      <th>donations2012</th>\n",
       "      <th>donations2014</th>\n",
       "      <th>donations2016</th>\n",
       "      <th>donations2018</th>\n",
       "    </tr>\n",
       "  </thead>\n",
       "  <tbody>\n",
       "    <tr>\n",
       "      <th>0</th>\n",
       "      <td>Jim</td>\n",
       "      <td>Himes</td>\n",
       "      <td>D</td>\n",
       "      <td>15000.0</td>\n",
       "      <td>10400.0</td>\n",
       "      <td>5400.0</td>\n",
       "      <td>5400.0</td>\n",
       "    </tr>\n",
       "    <tr>\n",
       "      <th>1</th>\n",
       "      <td>Bob</td>\n",
       "      <td>Dold</td>\n",
       "      <td>R</td>\n",
       "      <td>15000.0</td>\n",
       "      <td>11800.0</td>\n",
       "      <td>13750.0</td>\n",
       "      <td>0.0</td>\n",
       "    </tr>\n",
       "    <tr>\n",
       "      <th>2</th>\n",
       "      <td>Christopher</td>\n",
       "      <td>Murphy</td>\n",
       "      <td>D</td>\n",
       "      <td>13500.0</td>\n",
       "      <td>0.0</td>\n",
       "      <td>0.0</td>\n",
       "      <td>0.0</td>\n",
       "    </tr>\n",
       "    <tr>\n",
       "      <th>3</th>\n",
       "      <td>Tom</td>\n",
       "      <td>Cotton</td>\n",
       "      <td>R</td>\n",
       "      <td>5000.0</td>\n",
       "      <td>35050.0</td>\n",
       "      <td>0.0</td>\n",
       "      <td>0.0</td>\n",
       "    </tr>\n",
       "    <tr>\n",
       "      <th>4</th>\n",
       "      <td>Judy</td>\n",
       "      <td>Biggert</td>\n",
       "      <td>R</td>\n",
       "      <td>5000.0</td>\n",
       "      <td>0.0</td>\n",
       "      <td>0.0</td>\n",
       "      <td>0.0</td>\n",
       "    </tr>\n",
       "  </tbody>\n",
       "</table>\n",
       "</div>"
      ],
      "text/plain": [
       "    First Name Last Name party  donations2012  donations2014  donations2016  \\\n",
       "0          Jim     Himes     D        15000.0        10400.0         5400.0   \n",
       "1          Bob      Dold     R        15000.0        11800.0        13750.0   \n",
       "2  Christopher    Murphy     D        13500.0            0.0            0.0   \n",
       "3          Tom    Cotton     R         5000.0        35050.0            0.0   \n",
       "4         Judy   Biggert     R         5000.0            0.0            0.0   \n",
       "\n",
       "   donations2018  \n",
       "0         5400.0  \n",
       "1            0.0  \n",
       "2            0.0  \n",
       "3            0.0  \n",
       "4            0.0  "
      ]
     },
     "execution_count": 140,
     "metadata": {},
     "output_type": "execute_result"
    }
   ],
   "source": [
    "new_frame = party_to_party(new_frame)\n",
    "new_frame.head()"
   ]
  },
  {
   "cell_type": "code",
   "execution_count": 141,
   "metadata": {},
   "outputs": [],
   "source": [
    "def column_rename(df,old,new):\n",
    "    df = df.rename(columns = {old: new})\n",
    "    return df"
   ]
  },
  {
   "cell_type": "code",
   "execution_count": 142,
   "metadata": {},
   "outputs": [
    {
     "data": {
      "text/html": [
       "<div>\n",
       "<style scoped>\n",
       "    .dataframe tbody tr th:only-of-type {\n",
       "        vertical-align: middle;\n",
       "    }\n",
       "\n",
       "    .dataframe tbody tr th {\n",
       "        vertical-align: top;\n",
       "    }\n",
       "\n",
       "    .dataframe thead th {\n",
       "        text-align: right;\n",
       "    }\n",
       "</style>\n",
       "<table border=\"1\" class=\"dataframe\">\n",
       "  <thead>\n",
       "    <tr style=\"text-align: right;\">\n",
       "      <th></th>\n",
       "      <th>first</th>\n",
       "      <th>last</th>\n",
       "      <th>party</th>\n",
       "      <th>donations2012</th>\n",
       "      <th>donations2014</th>\n",
       "      <th>donations2016</th>\n",
       "      <th>donations2018</th>\n",
       "    </tr>\n",
       "  </thead>\n",
       "  <tbody>\n",
       "    <tr>\n",
       "      <th>0</th>\n",
       "      <td>Jim</td>\n",
       "      <td>Himes</td>\n",
       "      <td>D</td>\n",
       "      <td>15000.0</td>\n",
       "      <td>10400.0</td>\n",
       "      <td>5400.0</td>\n",
       "      <td>5400.0</td>\n",
       "    </tr>\n",
       "    <tr>\n",
       "      <th>1</th>\n",
       "      <td>Bob</td>\n",
       "      <td>Dold</td>\n",
       "      <td>R</td>\n",
       "      <td>15000.0</td>\n",
       "      <td>11800.0</td>\n",
       "      <td>13750.0</td>\n",
       "      <td>0.0</td>\n",
       "    </tr>\n",
       "    <tr>\n",
       "      <th>2</th>\n",
       "      <td>Christopher</td>\n",
       "      <td>Murphy</td>\n",
       "      <td>D</td>\n",
       "      <td>13500.0</td>\n",
       "      <td>0.0</td>\n",
       "      <td>0.0</td>\n",
       "      <td>0.0</td>\n",
       "    </tr>\n",
       "    <tr>\n",
       "      <th>3</th>\n",
       "      <td>Tom</td>\n",
       "      <td>Cotton</td>\n",
       "      <td>R</td>\n",
       "      <td>5000.0</td>\n",
       "      <td>35050.0</td>\n",
       "      <td>0.0</td>\n",
       "      <td>0.0</td>\n",
       "    </tr>\n",
       "    <tr>\n",
       "      <th>4</th>\n",
       "      <td>Judy</td>\n",
       "      <td>Biggert</td>\n",
       "      <td>R</td>\n",
       "      <td>5000.0</td>\n",
       "      <td>0.0</td>\n",
       "      <td>0.0</td>\n",
       "      <td>0.0</td>\n",
       "    </tr>\n",
       "  </tbody>\n",
       "</table>\n",
       "</div>"
      ],
      "text/plain": [
       "         first     last party  donations2012  donations2014  donations2016  \\\n",
       "0          Jim    Himes     D        15000.0        10400.0         5400.0   \n",
       "1          Bob     Dold     R        15000.0        11800.0        13750.0   \n",
       "2  Christopher   Murphy     D        13500.0            0.0            0.0   \n",
       "3          Tom   Cotton     R         5000.0        35050.0            0.0   \n",
       "4         Judy  Biggert     R         5000.0            0.0            0.0   \n",
       "\n",
       "   donations2018  \n",
       "0         5400.0  \n",
       "1            0.0  \n",
       "2            0.0  \n",
       "3            0.0  \n",
       "4            0.0  "
      ]
     },
     "execution_count": 142,
     "metadata": {},
     "output_type": "execute_result"
    }
   ],
   "source": [
    "new_frame = column_rename(new_frame, 'First Name', 'first')\n",
    "new_frame = column_rename(new_frame, 'Last Name', 'last')\n",
    "new_frame.head()\n"
   ]
  },
  {
   "cell_type": "code",
   "execution_count": 143,
   "metadata": {},
   "outputs": [],
   "source": [
    "# Save Data-Set externally\n",
    "\n",
    "compression_opts = dict(method='zip',\n",
    "                        archive_name='Donation_Data_Citadel.csv')  \n",
    "new_frame.to_csv('Donation_Data_Citadel.zip', index=False,\n",
    "          compression=compression_opts)  "
   ]
  },
  {
   "cell_type": "code",
   "execution_count": 43,
   "metadata": {},
   "outputs": [],
   "source": [
    "\n"
   ]
  },
  {
   "cell_type": "code",
   "execution_count": 44,
   "metadata": {},
   "outputs": [],
   "source": []
  },
  {
   "cell_type": "code",
   "execution_count": null,
   "metadata": {},
   "outputs": [],
   "source": [
    "\n"
   ]
  },
  {
   "cell_type": "code",
   "execution_count": 46,
   "metadata": {},
   "outputs": [],
   "source": []
  },
  {
   "cell_type": "code",
   "execution_count": 47,
   "metadata": {},
   "outputs": [],
   "source": [
    "\n"
   ]
  },
  {
   "cell_type": "code",
   "execution_count": null,
   "metadata": {
    "scrolled": true
   },
   "outputs": [],
   "source": []
  },
  {
   "cell_type": "code",
   "execution_count": 49,
   "metadata": {},
   "outputs": [],
   "source": []
  },
  {
   "cell_type": "code",
   "execution_count": 50,
   "metadata": {},
   "outputs": [],
   "source": []
  },
  {
   "cell_type": "code",
   "execution_count": null,
   "metadata": {},
   "outputs": [],
   "source": []
  },
  {
   "cell_type": "code",
   "execution_count": 52,
   "metadata": {},
   "outputs": [],
   "source": []
  },
  {
   "cell_type": "code",
   "execution_count": null,
   "metadata": {},
   "outputs": [],
   "source": [
    "\n"
   ]
  },
  {
   "cell_type": "code",
   "execution_count": null,
   "metadata": {},
   "outputs": [],
   "source": []
  }
 ],
 "metadata": {
  "kernelspec": {
   "display_name": "Python 3",
   "language": "python",
   "name": "python3"
  },
  "language_info": {
   "codemirror_mode": {
    "name": "ipython",
    "version": 3
   },
   "file_extension": ".py",
   "mimetype": "text/x-python",
   "name": "python",
   "nbconvert_exporter": "python",
   "pygments_lexer": "ipython3",
   "version": "3.8.5"
  }
 },
 "nbformat": 4,
 "nbformat_minor": 4
}
