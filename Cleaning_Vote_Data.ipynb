{
 "cells": [
  {
   "cell_type": "code",
   "execution_count": null,
   "metadata": {},
   "outputs": [],
   "source": [
    "# Trying to include vote data:\n",
    "# Looking at roll call votes on bill regarding Oil&Gas in the House in 2013\n",
    "# First Vote: Roll Call 611 | Bill Number: H. R. 1900\n",
    "RC_611_BN_HR1900 = pd.read_csv('~/Documents/GitHub/CampaignDonations/Data/congress_votes_113-2013_h611_Oil&Gas_New.csv')\n",
    "df = RC_611_BN_HR1900\n",
    "df[\"Dparty\"] = \"No\"\n",
    "df[\"Rparty\"] = \"Aye\"\n",
    "df.head()"
   ]
  },
  {
   "cell_type": "code",
   "execution_count": null,
   "metadata": {},
   "outputs": [],
   "source": [
    "df_D = df[df[\"party\"]==\"Democrat\"]\n",
    "df_R = df[df[\"party\"]==\"Republican\"]\n",
    "\n",
    "df_D[\"AlongDParty\"] = 0\n",
    "     \n",
    "for x in range(len(df_D)):\n",
    "  if df_D[\"vote\"].iloc[x] == df_D[\"Dparty\"].iloc[x]: \n",
    "    df_D[\"AlongDParty\"].iloc[x] = 1\n",
    "\n",
    "df_D.head()   "
   ]
  },
  {
   "cell_type": "code",
   "execution_count": null,
   "metadata": {},
   "outputs": [],
   "source": [
    "\n",
    "#if(len(RC_611_BN_HR1900_D[RC_611_BN_HR1900_D[\"vote\"] == \"Aye\"]) > len(RC_611_BN_HR1900_D[RC_611_BN_HR1900_D[\"vote\"] == \"No\"])):\n",
    "#    RC_611_BN_HR1900[\"DVote\"] = \"Aye\"\n",
    "#else:\n",
    "#    RC_611_BN_HR1900[\"DVote\"] = \"No\" "
   ]
  }
 ],
 "metadata": {
  "kernelspec": {
   "display_name": "Python 3",
   "language": "python",
   "name": "python3"
  },
  "language_info": {
   "codemirror_mode": {
    "name": "ipython",
    "version": 3
   },
   "file_extension": ".py",
   "mimetype": "text/x-python",
   "name": "python",
   "nbconvert_exporter": "python",
   "pygments_lexer": "ipython3",
   "version": "3.8.5"
  }
 },
 "nbformat": 4,
 "nbformat_minor": 4
}
