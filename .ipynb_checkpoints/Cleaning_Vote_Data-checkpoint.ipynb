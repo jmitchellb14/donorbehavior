{
 "cells": [
  {
   "cell_type": "code",
   "execution_count": 2,
   "metadata": {},
   "outputs": [],
   "source": [
    "import csv\n",
    "import pandas as pd\n",
    "import numpy as np\n"
   ]
  },
  {
   "cell_type": "code",
   "execution_count": 20,
   "metadata": {},
   "outputs": [],
   "source": [
    "# Trying to include vote data:\n",
    "# Looking at roll call votes on bill regarding Oil&Gas in the House in 2013\n",
    "# First Vote: Roll Call 611 | Bill Number: H. R. 1900\n",
    "df = pd.read_csv('~/Documents/GitHub/CampaignDonations/Data/Voting_Data/Vote_Results_Television&Film_GovTrack/113th/congress_votes_113-2014_h41.csv')\n"
   ]
  },
  {
   "cell_type": "code",
   "execution_count": 21,
   "metadata": {},
   "outputs": [],
   "source": [
    "df_Democratic = df[df[\"party\"] == \"Democrat\"]\n",
    "df_Republican = df[df[\"party\"] == \"Republican\"]\n",
    "\n",
    "df[\"D_MajorityVote\"] = df_Democratic[\"vote\"].max()\n",
    "df[\"R_MajorityVote\"] = df_Republican[\"vote\"].max()"
   ]
  },
  {
   "cell_type": "code",
   "execution_count": 16,
   "metadata": {},
   "outputs": [
    {
     "data": {
      "text/html": [
       "<div>\n",
       "<style scoped>\n",
       "    .dataframe tbody tr th:only-of-type {\n",
       "        vertical-align: middle;\n",
       "    }\n",
       "\n",
       "    .dataframe tbody tr th {\n",
       "        vertical-align: top;\n",
       "    }\n",
       "\n",
       "    .dataframe thead th {\n",
       "        text-align: right;\n",
       "    }\n",
       "</style>\n",
       "<table border=\"1\" class=\"dataframe\">\n",
       "  <thead>\n",
       "    <tr style=\"text-align: right;\">\n",
       "      <th></th>\n",
       "      <th>person</th>\n",
       "      <th>state</th>\n",
       "      <th>district</th>\n",
       "      <th>vote</th>\n",
       "      <th>name</th>\n",
       "      <th>party</th>\n",
       "      <th>D_voteAlong</th>\n",
       "      <th>R_voteAlong</th>\n",
       "    </tr>\n",
       "  </thead>\n",
       "  <tbody>\n",
       "    <tr>\n",
       "      <th>0</th>\n",
       "      <td>400004</td>\n",
       "      <td>AL</td>\n",
       "      <td>4</td>\n",
       "      <td>Yea</td>\n",
       "      <td>Rep. Robert Aderholt [R, 1997-2022]</td>\n",
       "      <td>Republican</td>\n",
       "      <td>Yea</td>\n",
       "      <td>Yea</td>\n",
       "    </tr>\n",
       "    <tr>\n",
       "      <th>1</th>\n",
       "      <td>400008</td>\n",
       "      <td>NJ</td>\n",
       "      <td>1</td>\n",
       "      <td>Nay</td>\n",
       "      <td>Rep. Robert “Rob” Andrews [D, 1990-2014]</td>\n",
       "      <td>Democrat</td>\n",
       "      <td>Yea</td>\n",
       "      <td>Yea</td>\n",
       "    </tr>\n",
       "    <tr>\n",
       "      <th>2</th>\n",
       "      <td>400010</td>\n",
       "      <td>AL</td>\n",
       "      <td>6</td>\n",
       "      <td>Yea</td>\n",
       "      <td>Rep. Spencer Bachus III [R, 1993-2014]</td>\n",
       "      <td>Republican</td>\n",
       "      <td>Yea</td>\n",
       "      <td>Yea</td>\n",
       "    </tr>\n",
       "    <tr>\n",
       "      <th>3</th>\n",
       "      <td>400018</td>\n",
       "      <td>TX</td>\n",
       "      <td>6</td>\n",
       "      <td>Yea</td>\n",
       "      <td>Rep. Joe Barton [R, 1985-2018]</td>\n",
       "      <td>Republican</td>\n",
       "      <td>Yea</td>\n",
       "      <td>Yea</td>\n",
       "    </tr>\n",
       "    <tr>\n",
       "      <th>4</th>\n",
       "      <td>400021</td>\n",
       "      <td>CA</td>\n",
       "      <td>34</td>\n",
       "      <td>Nay</td>\n",
       "      <td>Rep. Xavier Becerra [D, 2013-2017]</td>\n",
       "      <td>Democrat</td>\n",
       "      <td>Yea</td>\n",
       "      <td>Yea</td>\n",
       "    </tr>\n",
       "  </tbody>\n",
       "</table>\n",
       "</div>"
      ],
      "text/plain": [
       "   person state  district vote                                      name  \\\n",
       "0  400004    AL         4  Yea       Rep. Robert Aderholt [R, 1997-2022]   \n",
       "1  400008    NJ         1  Nay  Rep. Robert “Rob” Andrews [D, 1990-2014]   \n",
       "2  400010    AL         6  Yea    Rep. Spencer Bachus III [R, 1993-2014]   \n",
       "3  400018    TX         6  Yea            Rep. Joe Barton [R, 1985-2018]   \n",
       "4  400021    CA        34  Nay        Rep. Xavier Becerra [D, 2013-2017]   \n",
       "\n",
       "        party D_voteAlong R_voteAlong  \n",
       "0  Republican         Yea         Yea  \n",
       "1    Democrat         Yea         Yea  \n",
       "2  Republican         Yea         Yea  \n",
       "3  Republican         Yea         Yea  \n",
       "4    Democrat         Yea         Yea  "
      ]
     },
     "execution_count": 16,
     "metadata": {},
     "output_type": "execute_result"
    }
   ],
   "source": [
    "df_D = df[df[\"party\"]==\"Democrat\"]\n",
    "df_R = df[df[\"party\"]==\"Republican\"]\n",
    "\n",
    "df_D[\"AlongDParty\"] = 0\n",
    "     \n",
    "for x in range(len(df_D)):\n",
    "  if df_D[\"vote\"].iloc[x] == df_D[\"Dparty\"].iloc[x]: \n",
    "    df_D[\"AlongDParty\"].iloc[x] = 1\n",
    "\n",
    "df_D.head()   "
   ]
  },
  {
   "cell_type": "code",
   "execution_count": null,
   "metadata": {},
   "outputs": [],
   "source": []
  },
  {
   "cell_type": "code",
   "execution_count": null,
   "metadata": {},
   "outputs": [],
   "source": [
    "\n",
    "#if(len(RC_611_BN_HR1900_D[RC_611_BN_HR1900_D[\"vote\"] == \"Aye\"]) > len(RC_611_BN_HR1900_D[RC_611_BN_HR1900_D[\"vote\"] == \"No\"])):\n",
    "#    RC_611_BN_HR1900[\"DVote\"] = \"Aye\"\n",
    "#else:\n",
    "#    RC_611_BN_HR1900[\"DVote\"] = \"No\" "
   ]
  },
  {
   "cell_type": "code",
   "execution_count": null,
   "metadata": {},
   "outputs": [],
   "source": [
    "# Looking at the following votes: \n",
    "# Roll Call votes in the House of Representatives that are sortet in to the categories: \n",
    "# Bills ->  Arts, Culture, Religion ->  Television and film\n",
    "# Source: https://www.govtrack.us/congress/bills/subjects/television_and_film/5895#congress=113&bill_type[]=3&sort=-introduced_date\n",
    "# Govtrack.us"
   ]
  }
 ],
 "metadata": {
  "kernelspec": {
   "display_name": "Python 3",
   "language": "python",
   "name": "python3"
  },
  "language_info": {
   "codemirror_mode": {
    "name": "ipython",
    "version": 3
   },
   "file_extension": ".py",
   "mimetype": "text/x-python",
   "name": "python",
   "nbconvert_exporter": "python",
   "pygments_lexer": "ipython3",
   "version": "3.8.5"
  }
 },
 "nbformat": 4,
 "nbformat_minor": 4
}
